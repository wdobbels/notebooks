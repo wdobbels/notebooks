{
 "cells": [
  {
   "cell_type": "code",
   "execution_count": 1,
   "metadata": {},
   "outputs": [],
   "source": [
    "import math\n",
    "import numpy as np\n",
    "import matplotlib.pyplot as plt\n",
    "from ipywidgets import interact\n",
    "#plt.style.use('onedork')"
   ]
  },
  {
   "cell_type": "markdown",
   "metadata": {},
   "source": [
    "# Doppler"
   ]
  },
  {
   "cell_type": "code",
   "execution_count": 2,
   "metadata": {},
   "outputs": [
    {
     "data": {
      "application/vnd.jupyter.widget-view+json": {
       "model_id": "ac4687b61b384abaa644491555365f43",
       "version_major": 2,
       "version_minor": 0
      },
      "text/html": [
       "<p>Failed to display Jupyter Widget of type <code>interactive</code>.</p>\n",
       "<p>\n",
       "  If you're reading this message in the Jupyter Notebook or JupyterLab Notebook, it may mean\n",
       "  that the widgets JavaScript is still loading. If this message persists, it\n",
       "  likely means that the widgets JavaScript library is either not installed or\n",
       "  not enabled. See the <a href=\"https://ipywidgets.readthedocs.io/en/stable/user_install.html\">Jupyter\n",
       "  Widgets Documentation</a> for setup instructions.\n",
       "</p>\n",
       "<p>\n",
       "  If you're reading this message in another frontend (for example, a static\n",
       "  rendering on GitHub or <a href=\"https://nbviewer.jupyter.org/\">NBViewer</a>),\n",
       "  it may mean that your frontend doesn't currently support widgets.\n",
       "</p>\n"
      ],
      "text/plain": [
       "interactive(children=(FloatSlider(value=505.0, description='vg', max=1000.0, min=10.0, step=5.0), FloatSlider(value=505.0, description='f0', max=1000.0, min=10.0, step=5.0), Output()), _dom_classes=('widget-interact',))"
      ]
     },
     "metadata": {},
     "output_type": "display_data"
    },
    {
     "data": {
      "text/plain": [
       "<function __main__.plot_doppler>"
      ]
     },
     "execution_count": 2,
     "metadata": {},
     "output_type": "execute_result"
    }
   ],
   "source": [
    "def plot_doppler(vg, f0):\n",
    "    eps = 2\n",
    "    arr_v = np.linspace(-vg+eps, vg-eps, 100)\n",
    "    arr_fpb = f0 / (1 - (arr_v / vg))\n",
    "    arr_fpw = f0 * (1 + (arr_v / vg))\n",
    "    plt.figure(figsize=(13, 7))\n",
    "    plt.plot(arr_v, arr_fpb, label='bewegende bron')\n",
    "    plt.plot(arr_v, arr_fpw, label='bewegende waarnemer')\n",
    "    plt.legend()\n",
    "    plt.ylim(0, 10*f0)\n",
    "    plt.xlabel('v')\n",
    "    plt.ylabel(\"f'\")\n",
    "\n",
    "interact(plot_doppler, vg=(10., 1000., 5.), f0=(10., 1000., 5.))"
   ]
  },
  {
   "cell_type": "markdown",
   "metadata": {},
   "source": [
    "# Blokgolf\n",
    "\n",
    "$$b = 2\\cdot n - 1$$\n",
    "$$y = (-1)^{n+1}\\frac{A}{b} \\cdot \\cos(bkx)$$"
   ]
  },
  {
   "cell_type": "code",
   "execution_count": 3,
   "metadata": {},
   "outputs": [
    {
     "data": {
      "application/vnd.jupyter.widget-view+json": {
       "model_id": "051c6d164d4444b2a208934ea1c24b66",
       "version_major": 2,
       "version_minor": 0
      },
      "text/html": [
       "<p>Failed to display Jupyter Widget of type <code>interactive</code>.</p>\n",
       "<p>\n",
       "  If you're reading this message in the Jupyter Notebook or JupyterLab Notebook, it may mean\n",
       "  that the widgets JavaScript is still loading. If this message persists, it\n",
       "  likely means that the widgets JavaScript library is either not installed or\n",
       "  not enabled. See the <a href=\"https://ipywidgets.readthedocs.io/en/stable/user_install.html\">Jupyter\n",
       "  Widgets Documentation</a> for setup instructions.\n",
       "</p>\n",
       "<p>\n",
       "  If you're reading this message in another frontend (for example, a static\n",
       "  rendering on GitHub or <a href=\"https://nbviewer.jupyter.org/\">NBViewer</a>),\n",
       "  it may mean that your frontend doesn't currently support widgets.\n",
       "</p>\n"
      ],
      "text/plain": [
       "interactive(children=(FloatSlider(value=2.5, description='A', max=5.0, min=0.5, step=0.5), FloatSlider(value=16.0, description='k', max=30.0, min=3.0, step=1.0), IntSlider(value=15, description='n_max', max=30, min=1), Output()), _dom_classes=('widget-interact',))"
      ]
     },
     "metadata": {},
     "output_type": "display_data"
    },
    {
     "data": {
      "text/plain": [
       "<function __main__.plot_blokgolf>"
      ]
     },
     "execution_count": 3,
     "metadata": {},
     "output_type": "execute_result"
    }
   ],
   "source": [
    "def plot_blokgolf(A, k, n_max):\n",
    "    arr_x = np.linspace(-0.5, 0.5, 100)\n",
    "    arr_y = np.zeros(100)\n",
    "    for n in range(1, n_max+1):\n",
    "        b = 2*n - 1\n",
    "        fase = (-1)**(n+1)\n",
    "        arr_y += (fase * A / b) * np.cos(b*k*arr_x)\n",
    "    plt.figure(figsize=(11, 7))\n",
    "    plt.plot(arr_x, arr_y)\n",
    "    \n",
    "interact(plot_blokgolf, A=(0.5, 5., 0.5), k=(3., 30., 1.), n_max=(1, 30, 1))"
   ]
  },
  {
   "cell_type": "markdown",
   "metadata": {},
   "source": [
    "# Golven"
   ]
  },
  {
   "cell_type": "code",
   "execution_count": 4,
   "metadata": {},
   "outputs": [
    {
     "data": {
      "application/vnd.jupyter.widget-view+json": {
       "model_id": "7bbd019520754afa8991af1880574c25",
       "version_major": 2,
       "version_minor": 0
      },
      "text/html": [
       "<p>Failed to display Jupyter Widget of type <code>interactive</code>.</p>\n",
       "<p>\n",
       "  If you're reading this message in the Jupyter Notebook or JupyterLab Notebook, it may mean\n",
       "  that the widgets JavaScript is still loading. If this message persists, it\n",
       "  likely means that the widgets JavaScript library is either not installed or\n",
       "  not enabled. See the <a href=\"https://ipywidgets.readthedocs.io/en/stable/user_install.html\">Jupyter\n",
       "  Widgets Documentation</a> for setup instructions.\n",
       "</p>\n",
       "<p>\n",
       "  If you're reading this message in another frontend (for example, a static\n",
       "  rendering on GitHub or <a href=\"https://nbviewer.jupyter.org/\">NBViewer</a>),\n",
       "  it may mean that your frontend doesn't currently support widgets.\n",
       "</p>\n"
      ],
      "text/plain": [
       "interactive(children=(FloatSlider(value=1.5, description='t', max=3.0), FloatSlider(value=5.5, description='A1', max=10.0, min=1.0, step=0.5), FloatSlider(value=5.5, description='A2', max=10.0, min=1.0, step=0.5), FloatSlider(value=1.5000000000000002, description='k1', max=3.0, min=0.1, step=0.2), FloatSlider(value=1.5000000000000002, description='k2', max=3.0, min=0.1), FloatSlider(value=5.5, description='omega1', max=10.0, min=1.0, step=0.5), FloatSlider(value=5.5, description='omega2', max=10.0, min=1.0, step=0.5), Output()), _dom_classes=('widget-interact',))"
      ]
     },
     "metadata": {},
     "output_type": "display_data"
    },
    {
     "data": {
      "text/plain": [
       "<function __main__.plot_golf>"
      ]
     },
     "execution_count": 4,
     "metadata": {},
     "output_type": "execute_result"
    }
   ],
   "source": [
    "def plot_golf(t, A1, A2, k1, k2, omega1, omega2):\n",
    "    x = np.linspace(-10, 10, 100)\n",
    "    g1 = A1 * np.sin(k1*x - omega1*t)\n",
    "    g2 = A2 * np.sin(k2*x + omega2*t)\n",
    "    plt.figure(figsize=(12, 7))\n",
    "    plt.plot(x, g1, label='golf 1', color='r', alpha=0.5)\n",
    "    if A2 > 0:\n",
    "        plt.plot(x, g2, label='golf 2', color='b', alpha=0.5)\n",
    "        plt.plot(x, g1+g2, label='som', color='k')\n",
    "    Amax = A1 + A2\n",
    "    plt.ylim(-Amax, Amax)\n",
    "    plt.xlabel('x')\n",
    "    plt.show()\n",
    "    \n",
    "interact(plot_golf, t=(0., 3., 0.1), A1=(1., 10., 0.5), A2=(1., 10., 0.5),\n",
    "         k1=(0.1, 3., 0.2, ), k2=(0.1, 3., 0.1), omega1=(1., 10., 0.5), omega2=(1., 10., 0.5))"
   ]
  },
  {
   "cell_type": "markdown",
   "metadata": {},
   "source": [
    "# Oscillator"
   ]
  },
  {
   "cell_type": "code",
   "execution_count": 5,
   "metadata": {},
   "outputs": [
    {
     "data": {
      "application/vnd.jupyter.widget-view+json": {
       "model_id": "3766b1b7e37a402292984fc35239c55d",
       "version_major": 2,
       "version_minor": 0
      },
      "text/html": [
       "<p>Failed to display Jupyter Widget of type <code>interactive</code>.</p>\n",
       "<p>\n",
       "  If you're reading this message in the Jupyter Notebook or JupyterLab Notebook, it may mean\n",
       "  that the widgets JavaScript is still loading. If this message persists, it\n",
       "  likely means that the widgets JavaScript library is either not installed or\n",
       "  not enabled. See the <a href=\"https://ipywidgets.readthedocs.io/en/stable/user_install.html\">Jupyter\n",
       "  Widgets Documentation</a> for setup instructions.\n",
       "</p>\n",
       "<p>\n",
       "  If you're reading this message in another frontend (for example, a static\n",
       "  rendering on GitHub or <a href=\"https://nbviewer.jupyter.org/\">NBViewer</a>),\n",
       "  it may mean that your frontend doesn't currently support widgets.\n",
       "</p>\n"
      ],
      "text/plain": [
       "interactive(children=(FloatSlider(value=15.0, description='k', max=20.0, min=10.0, step=0.5), FloatSlider(value=0.7000000000000001, description='c', max=1.5, min=0.1), FloatSlider(value=0.5, description='m', max=1.0, min=0.1), FloatSlider(value=2.0, description='x0', max=5.0, min=-1.0, step=0.2), FloatSlider(value=0.0, description='v0', max=10.0, min=-10.0, step=0.2), Checkbox(value=True, description='show_x'), Checkbox(value=True, description='show_v'), Checkbox(value=False, description='show_a'), Output()), _dom_classes=('widget-interact',))"
      ]
     },
     "metadata": {},
     "output_type": "display_data"
    },
    {
     "data": {
      "text/plain": [
       "<function __main__.plot_oscillator>"
      ]
     },
     "execution_count": 5,
     "metadata": {},
     "output_type": "execute_result"
    }
   ],
   "source": [
    "def plot_oscillator(k, c, m, x0, v0, show_x=True, show_v=True, show_a=False):\n",
    "    t = 0\n",
    "    dt = 0.01\n",
    "    tmax = 2\n",
    "    list_t = []\n",
    "    list_x = []\n",
    "    list_v = []\n",
    "    list_a = []\n",
    "    x = x0\n",
    "    v = v0\n",
    "    a = -(k/m)*x - (c/m) * v * abs(v)\n",
    "    while t <= tmax : \n",
    "        x += v*dt + 0.5 * a * dt**2\n",
    "        v += a*dt\n",
    "        a = -(k/m)*x - (c/m) * v * abs(v) \n",
    "        list_t.append(t)\n",
    "        list_x.append(x)\n",
    "        list_v.append(v)\n",
    "        list_a.append(a)\n",
    "        t+=dt\n",
    "    plt.figure(figsize=(11, 7))\n",
    "    if show_x:\n",
    "        plt.plot(list_t,list_x, color='b', label='positie')\n",
    "    if show_v:\n",
    "        plt.plot(list_t,list_v, color='g', label='snelheid')\n",
    "    if show_a:\n",
    "        plt.plot(list_t,list_a, color='r', label='versnelling')\n",
    "    plt.axhline(y=0, c='k')\n",
    "    plt.legend()  # legende toevoegen\n",
    "    plt.xlabel('t')\n",
    "    plt.show()\n",
    "    \n",
    "interact(plot_oscillator, k=(10., 20., 0.5), c=(0.1, 1.5, 0.1), m=(0.1, 1., 0.1),\n",
    "         x0=(-1., 5., 0.2), v0=(-10., 10., 0.2))"
   ]
  }
 ],
 "metadata": {
  "hide_input": false,
  "kernelspec": {
   "display_name": "Python 3",
   "language": "python",
   "name": "python3"
  },
  "language_info": {
   "codemirror_mode": {
    "name": "ipython",
    "version": 3
   },
   "file_extension": ".py",
   "mimetype": "text/x-python",
   "name": "python",
   "nbconvert_exporter": "python",
   "pygments_lexer": "ipython3",
   "version": "3.6.4"
  },
  "toc": {
   "nav_menu": {},
   "number_sections": true,
   "sideBar": true,
   "skip_h1_title": false,
   "toc_cell": false,
   "toc_position": {},
   "toc_section_display": "block",
   "toc_window_display": false
  }
 },
 "nbformat": 4,
 "nbformat_minor": 2
}
